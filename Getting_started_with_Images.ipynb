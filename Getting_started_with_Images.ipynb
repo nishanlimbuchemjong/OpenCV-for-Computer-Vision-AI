{
 "cells": [
  {
   "cell_type": "markdown",
   "id": "954d5a98-d3ce-4eb0-9b46-c5ac30c5bdf3",
   "metadata": {},
   "source": [
    "# Import Libraries"
   ]
  },
  {
   "cell_type": "code",
   "execution_count": 2,
   "id": "60c2427c-93a0-4ee4-b8ae-8055d7116fc6",
   "metadata": {},
   "outputs": [],
   "source": [
    "import cv2\n",
    "import numpy as np\n",
    "import matplotlib.pyplot as plt\n",
    "%matplotlib inline\n",
    "from IPython.display import Image"
   ]
  },
  {
   "cell_type": "markdown",
   "id": "a347f8cc-7e11-49e1-b2d9-8f681b3e38f4",
   "metadata": {},
   "source": [
    "## Display Image Directly"
   ]
  },
  {
   "cell_type": "code",
   "execution_count": 46,
   "id": "e0d09bff-2ec1-4067-8f0e-42b26c81e30b",
   "metadata": {},
   "outputs": [
    {
     "data": {
      "image/png": "[encoded data removed]",
      "text/plain": [
       "<IPython.core.display.Image object>"
      ]
     },
     "execution_count": 46,
     "metadata": {},
     "output_type": "execute_result"
    }
   ],
   "source": [
    "Image(filename='image/checkerboard.png')"
   ]
  },
  {
   "cell_type": "code",
   "execution_count": 50,
   "id": "8e7653df-4bcb-4356-931f-70136eeb5dec",
   "metadata": {},
   "outputs": [
    {
     "data": {
      "image/png": "[encoded data removed]",
      "text/plain": [
       "<IPython.core.display.Image object>"
      ]
     },
     "execution_count": 50,
     "metadata": {},
     "output_type": "execute_result"
    }
   ],
   "source": [
    "Image(filename='image/checkerboard1.png')"
   ]
  },
  {
   "cell_type": "markdown",
   "id": "d792c14c-8ea9-43f1-b3ac-29fd10db44d0",
   "metadata": {},
   "source": [
    "# Reading Images using OpenCV"
   ]
  },
  {
   "cell_type": "markdown",
   "id": "b11425e4-4dc1-4447-ab15-16fa95794471",
   "metadata": {},
   "source": [
    "### Read image as GreyScale"
   ]
  },
  {
   "cell_type": "code",
   "execution_count": 86,
   "id": "030db91f-3da1-48ed-abbb-3dc0708197d2",
   "metadata": {},
   "outputs": [
    {
     "name": "stdout",
     "output_type": "stream",
     "text": [
      "[[238 238 238 ... 255 255 255]\n",
      " [238 238 238 ... 255 255 255]\n",
      " [238 238 238 ... 255 255 255]\n",
      " ...\n",
      " [255 255 255 ... 238 238 238]\n",
      " [255 255 255 ... 238 238 238]\n",
      " [255 255 255 ... 238 238 238]]\n"
     ]
    }
   ],
   "source": [
    "cb_img = cv2.imread('image/checkerboard.png', 0)\n",
    "print(cb_img)"
   ]
  },
  {
   "cell_type": "markdown",
   "id": "90318dfe-715d-495b-b07b-49b281dd2ac6",
   "metadata": {},
   "source": [
    "### Display image attributes"
   ]
  },
  {
   "cell_type": "code",
   "execution_count": 88,
   "id": "7de32342-672d-43f8-aa6a-f04f7cdcde20",
   "metadata": {},
   "outputs": [
    {
     "data": {
      "text/plain": [
       "(225, 225)"
      ]
     },
     "execution_count": 88,
     "metadata": {},
     "output_type": "execute_result"
    }
   ],
   "source": [
    "# print the size of image:\n",
    "cb_img.shape"
   ]
  },
  {
   "cell_type": "code",
   "execution_count": 90,
   "id": "5ad4717e-430b-4cbd-997a-86be251a9f26",
   "metadata": {},
   "outputs": [
    {
     "data": {
      "text/plain": [
       "dtype('uint8')"
      ]
     },
     "execution_count": 90,
     "metadata": {},
     "output_type": "execute_result"
    }
   ],
   "source": [
    "# print data type of image:\n",
    "cb_img.dtype"
   ]
  },
  {
   "cell_type": "markdown",
   "id": "63f93eed-10b6-4df8-8b0f-986b8e7f8a93",
   "metadata": {},
   "source": [
    "### Display Image using Matplotlib"
   ]
  },
  {
   "cell_type": "code",
   "execution_count": 93,
   "id": "19a11d3e-1e34-4c36-aabf-88eae098cd54",
   "metadata": {},
   "outputs": [
    {
     "data": {
      "text/plain": [
       "<matplotlib.image.AxesImage at 0x1a70a35e1b0>"
      ]
     },
     "execution_count": 93,
     "metadata": {},
     "output_type": "execute_result"
    }
   ],
   "source": [
    "plt.imshow(cb_img)"
   ]
  },
  {
   "cell_type": "code",
   "execution_count": 62,
   "id": "14e52823-7bc9-4f0e-9ee5-d94bc15fb55d",
   "metadata": {},
   "outputs": [
    {
     "data": {
      "text/plain": [
       "<matplotlib.image.AxesImage at 0x1a706c116a0>"
      ]
     },
     "execution_count": 62,
     "metadata": {},
     "output_type": "execute_result"
    }
   ],
   "source": [
    "# set color map to gray scale for proper rendering:\n",
    "plt.imshow(cb_img, cmap='gray')"
   ]
  },
  {
   "cell_type": "markdown",
   "id": "7f0e383b-bc3d-402b-8f74-b68baf4d9dfa",
   "metadata": {},
   "source": [
    "# Working with Color Images"
   ]
  },
  {
   "cell_type": "code",
   "execution_count": 65,
   "id": "ecddea2b-330c-4f95-ae44-2d7f817aca93",
   "metadata": {},
   "outputs": [
    {
     "data": {
      "image/png": "[encoded data removed]",
      "text/plain": [
       "<IPython.core.display.Image object>"
      ]
     },
     "execution_count": 65,
     "metadata": {},
     "output_type": "execute_result"
    }
   ],
   "source": [
    "Image(filename='image/cococola.png')"
   ]
  },
  {
   "cell_type": "markdown",
   "id": "d0b6e092-3cca-4a7b-ad51-c1ba4359d2c0",
   "metadata": {},
   "source": [
    "### Read and dispaly color image"
   ]
  },
  {
   "cell_type": "code",
   "execution_count": 70,
   "id": "c7ec5153-a16b-4dc6-bc72-503037308a8e",
   "metadata": {},
   "outputs": [
    {
     "name": "stdout",
     "output_type": "stream",
     "text": [
      "(167, 301, 3)\n",
      "uint8\n"
     ]
    }
   ],
   "source": [
    "coke_image = cv2.imread('image/cococola.png')\n",
    "\n",
    "print(coke_image.shape)\n",
    "print(coke_image.dtype)"
   ]
  },
  {
   "cell_type": "markdown",
   "id": "1ae58f78-50b4-44bf-baf4-f21e3923bd0f",
   "metadata": {},
   "source": [
    "### Display Image"
   ]
  },
  {
   "cell_type": "code",
   "execution_count": 95,
   "id": "2d331f96-9983-41a3-b668-eda77d2d6e31",
   "metadata": {},
   "outputs": [
    {
     "data": {
      "text/plain": [
       "<matplotlib.image.AxesImage at 0x1a70a35fc80>"
      ]
     },
     "execution_count": 95,
     "metadata": {},
     "output_type": "execute_result"
    }
   ],
   "source": [
    "plt.imshow(coke_image)"
   ]
  },
  {
   "cell_type": "code",
   "execution_count": null,
   "id": "7149c13c-488b-414d-98df-a112004f6e38",
   "metadata": {},
   "outputs": [],
   "source": []
  },
  {
   "cell_type": "code",
   "execution_count": null,
   "id": "5c5c1feb-5d74-4686-8fa5-a3888041373a",
   "metadata": {},
   "outputs": [],
   "source": []
  }
 ],
 "metadata": {
  "kernelspec": {
   "display_name": "Python [conda env:base] *",
   "language": "python",
   "name": "conda-base-py"
  },
  "language_info": {
   "codemirror_mode": {
    "name": "ipython",
    "version": 3
   },
   "file_extension": ".py",
   "mimetype": "text/x-python",
   "name": "python",
   "nbconvert_exporter": "python",
   "pygments_lexer": "ipython3",
   "version": "3.12.7"
  }
 },
 "nbformat": 4,
 "nbformat_minor": 5
}
