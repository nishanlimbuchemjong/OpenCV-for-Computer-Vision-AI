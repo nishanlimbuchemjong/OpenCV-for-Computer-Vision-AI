{
 "cells": [
  {
   "cell_type": "code",
   "execution_count": 2,
   "id": "cf022270-bd2f-49d9-903a-0f88ed54d10f",
   "metadata": {},
   "outputs": [],
   "source": [
    "import cv2\n",
    "import time\n",
    "import numpy as np"
   ]
  },
  {
   "cell_type": "code",
   "execution_count": 4,
   "id": "1fb55aaf-906b-4d90-8b51-dfc9b9d8ee5e",
   "metadata": {},
   "outputs": [],
   "source": [
    "# car classifier\n",
    "car_classifier = cv2.CascadeClassifier('Haarcascades/haarcascade_car.xml')\n"
   ]
  },
  {
   "cell_type": "code",
   "execution_count": 6,
   "id": "7a38e5d1-c31d-40df-a52a-43709542888c",
   "metadata": {},
   "outputs": [],
   "source": [
    "# video capture:\n",
    "capture = cv2.VideoCapture('video/car2.mp4')"
   ]
  },
  {
   "cell_type": "code",
   "execution_count": 8,
   "id": "9449fe6b-7fb2-499b-8e81-4fe320c05d21",
   "metadata": {},
   "outputs": [],
   "source": [
    "# Looping through videos once it is loaded successfully:\n",
    "while capture.isOpened():\n",
    "    # Read first frame\n",
    "    ret, frame = capture.read()\n",
    "    gray = cv2.cvtColor(frame, cv2.COLOR_BGR2GRAY)\n",
    "\n",
    "    # Pass frame to body_classifier\n",
    "    cars = car_classifier.detectMultiScale(gray, 1.4, 2)\n",
    "\n",
    "\n",
    "    # Extract bounding boxes for any body identified\n",
    "    for (x, y, w, h) in cars:\n",
    "        cv2.rectangle(frame, (x, y), (x+w, y+h), (0, 255, 255), 2)\n",
    "        cv2.imshow('Cars', frame)\n",
    "\n",
    "    if cv2.waitKey(1) == 13: # 13 is the Enter key\n",
    "        break\n",
    "\n",
    "capture.release()\n",
    "cv2.destroyAllWindows()"
   ]
  },
  {
   "cell_type": "code",
   "execution_count": null,
   "id": "b981a8cc-dc6d-442b-9b97-2122bac3585c",
   "metadata": {},
   "outputs": [],
   "source": []
  }
 ],
 "metadata": {
  "kernelspec": {
   "display_name": "Python [conda env:base] *",
   "language": "python",
   "name": "conda-base-py"
  },
  "language_info": {
   "codemirror_mode": {
    "name": "ipython",
    "version": 3
   },
   "file_extension": ".py",
   "mimetype": "text/x-python",
   "name": "python",
   "nbconvert_exporter": "python",
   "pygments_lexer": "ipython3",
   "version": "3.12.7"
  }
 },
 "nbformat": 4,
 "nbformat_minor": 5
}
