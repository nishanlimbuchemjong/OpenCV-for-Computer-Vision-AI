{
 "cells": [
  {
   "cell_type": "code",
   "execution_count": 1,
   "id": "9c19218f-fab0-4fa0-bb8c-ce18ae7feb11",
   "metadata": {},
   "outputs": [],
   "source": [
    "import numpy as np\n",
    "import cv2"
   ]
  },
  {
   "cell_type": "code",
   "execution_count": 3,
   "id": "75115b97-0b7d-4533-bf92-ff21947cabef",
   "metadata": {},
   "outputs": [],
   "source": [
    "# Point OpenCV CascadeClassifier funtion to where our classifier(XML file format) is stored\n",
    "face_classifier = cv2.CascadeClassifier('Haarcascades/haarcascade_frontalface_default.xml')"
   ]
  },
  {
   "cell_type": "code",
   "execution_count": 5,
   "id": "9f584ba4-3810-4d16-baf6-e329e2f77e0e",
   "metadata": {},
   "outputs": [],
   "source": [
    "# load image and convert to grayscale\n",
    "image = cv2.imread('image/face1.jpg')\n",
    "gray = cv2.cvtColor(image, cv2.COLOR_BGR2GRAY)"
   ]
  },
  {
   "cell_type": "code",
   "execution_count": 7,
   "id": "b904aa5b-e500-4b4d-80ab-527ae6f24e91",
   "metadata": {},
   "outputs": [],
   "source": [
    "# Classifier returns the ROI of the detected face as a tuple. It stores the top right and the bottom right coordinates\n",
    "faces = face_classifier.detectMultiScale(gray, 1.3, 5)"
   ]
  },
  {
   "cell_type": "code",
   "execution_count": 17,
   "id": "8e077244-e9f1-4a60-b5ec-c28ef3882407",
   "metadata": {},
   "outputs": [],
   "source": [
    "# when no face detected, face_classifier returns and empty tuple\n",
    "if len(faces) == 0:\n",
    "    print(\"No Faces found.\")"
   ]
  },
  {
   "cell_type": "code",
   "execution_count": 19,
   "id": "920ab626-2b5c-4810-b6c9-0569449ac225",
   "metadata": {},
   "outputs": [],
   "source": [
    "# Iterate through the faces array and draw a rectangle over each face in faces\n",
    "for (x, y, w, h) in faces:\n",
    "    cv2.rectangle(image, (x, y), (x+w, y+h), (127, 0, 255), 2)\n",
    "    cv2.imshow('Face Detection', image)\n",
    "    cv2.waitKey(0)\n",
    "cv2.destroyAllWindows()"
   ]
  },
  {
   "cell_type": "markdown",
   "id": "81663fd0-bb76-45bb-a926-ecb7931fd2c2",
   "metadata": {},
   "source": [
    "# Combine Face and Eye Detection"
   ]
  },
  {
   "cell_type": "code",
   "execution_count": 3,
   "id": "0affabd3-c099-4a75-bf59-83161ef1c775",
   "metadata": {},
   "outputs": [],
   "source": [
    "face_classifier = cv2.CascadeClassifier('Haarcascades/haarcascade_frontalface_default.xml')\n",
    "eye_classifier = cv2.CascadeClassifier('Haarcascades/haarcascade_eye.xml')"
   ]
  },
  {
   "cell_type": "code",
   "execution_count": 5,
   "id": "f7cf8ae2-c70c-42c4-a4b5-1fdc84249573",
   "metadata": {},
   "outputs": [],
   "source": [
    "# load image and convert to grayscale\n",
    "img = cv2.imread('image/face3.jpg')\n",
    "gray = cv2.cvtColor(img, cv2.COLOR_BGR2GRAY)"
   ]
  },
  {
   "cell_type": "code",
   "execution_count": 7,
   "id": "df5ed5fa-4420-4ea7-8fb9-8e769753a500",
   "metadata": {},
   "outputs": [],
   "source": [
    "# Classifier returns the ROI of the detected face as a tuple. It stores the top right and the bottom right coordinates\n",
    "faces = face_classifier.detectMultiScale(gray, 1.3, 5)"
   ]
  },
  {
   "cell_type": "code",
   "execution_count": 9,
   "id": "5fd61f2f-e227-4aad-93fd-a0a5780108eb",
   "metadata": {},
   "outputs": [],
   "source": [
    "# when no face detected, face_classifier returns and empty tuple\n",
    "if len(faces) == 0:\n",
    "    print(\"No Faces found.\")"
   ]
  },
  {
   "cell_type": "code",
   "execution_count": 11,
   "id": "421270ce-95da-4469-abbc-bafafd87c93e",
   "metadata": {},
   "outputs": [],
   "source": [
    "# Iterate through the faces array and draw a rectangle over each face in faces\n",
    "for (x, y, w, h) in faces:\n",
    "    cv2.rectangle(img, (x, y), (x+w, y+h), (127, 0, 255), 2)\n",
    "    cv2.imshow('img', img)\n",
    "    cv2.waitKey(0)\n",
    "    roi_gray = gray[y:y+h, x:x+w]\n",
    "    roi_color = img[y:y+h, x:x+w]\n",
    "    eyes = eye_classifier.detectMultiScale(roi_gray)\n",
    "    for(ex, ey, ew, eh) in eyes:\n",
    "        cv2.rectangle(roi_color, (ex, ey), (ex+ew, ey+eh), (255, 255, 0), 2)\n",
    "        cv2.imshow('img', img)\n",
    "        cv2.waitKey(0)\n",
    "cv2.destroyAllWindows()"
   ]
  },
  {
   "cell_type": "code",
   "execution_count": null,
   "id": "50b60708-b0ae-4436-8c2f-b411ac3f7e0c",
   "metadata": {},
   "outputs": [],
   "source": []
  }
 ],
 "metadata": {
  "kernelspec": {
   "display_name": "Python [conda env:base] *",
   "language": "python",
   "name": "conda-base-py"
  },
  "language_info": {
   "codemirror_mode": {
    "name": "ipython",
    "version": 3
   },
   "file_extension": ".py",
   "mimetype": "text/x-python",
   "name": "python",
   "nbconvert_exporter": "python",
   "pygments_lexer": "ipython3",
   "version": "3.12.7"
  }
 },
 "nbformat": 4,
 "nbformat_minor": 5
}
