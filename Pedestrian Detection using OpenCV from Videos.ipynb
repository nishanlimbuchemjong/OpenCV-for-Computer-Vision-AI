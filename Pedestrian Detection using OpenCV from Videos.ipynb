{
 "cells": [
  {
   "cell_type": "markdown",
   "id": "f540367a-09ad-44f0-bb19-fa1bbcaf0efa",
   "metadata": {},
   "source": [
    "# Pedestrian Detection"
   ]
  },
  {
   "cell_type": "code",
   "execution_count": 13,
   "id": "91651c94-0374-4b59-8690-772d518acaea",
   "metadata": {},
   "outputs": [],
   "source": [
    "import cv2\n",
    "import numpy as np"
   ]
  },
  {
   "cell_type": "code",
   "execution_count": 27,
   "id": "521f1531-14c6-4f76-8dd0-c8a71126c198",
   "metadata": {},
   "outputs": [
    {
     "data": {
      "text/plain": [
       "< cv2.CascadeClassifier 00000192F6D25390>"
      ]
     },
     "execution_count": 27,
     "metadata": {},
     "output_type": "execute_result"
    }
   ],
   "source": [
    "# body classifier:\n",
    "body_classifier = cv2.CascadeClassifier('Haarcascades/haarcascade_fullbody.xml')\n",
    "body_classifier"
   ]
  },
  {
   "cell_type": "code",
   "execution_count": 29,
   "id": "368f690b-3675-42c8-8afb-9053d127ca5a",
   "metadata": {},
   "outputs": [
    {
     "data": {
      "text/plain": [
       "< cv2.VideoCapture 00000192F6D252B0>"
      ]
     },
     "execution_count": 29,
     "metadata": {},
     "output_type": "execute_result"
    }
   ],
   "source": [
    "# video capture:\n",
    "capture = cv2.VideoCapture('video/pedestrain.mp4')\n",
    "capture"
   ]
  },
  {
   "cell_type": "code",
   "execution_count": 31,
   "id": "77a183aa-a5f6-492f-947f-c569d1ec56d3",
   "metadata": {},
   "outputs": [
    {
     "ename": "error",
     "evalue": "OpenCV(4.11.0) D:\\a\\opencv-python\\opencv-python\\opencv\\modules\\imgproc\\src\\color.cpp:199: error: (-215:Assertion failed) !_src.empty() in function 'cv::cvtColor'\n",
     "output_type": "error",
     "traceback": [
      "\u001b[1;31m---------------------------------------------------------------------------\u001b[0m",
      "\u001b[1;31merror\u001b[0m                                     Traceback (most recent call last)",
      "Cell \u001b[1;32mIn[31], line 5\u001b[0m\n\u001b[0;32m      2\u001b[0m \u001b[38;5;28;01mwhile\u001b[39;00m capture\u001b[38;5;241m.\u001b[39misOpened():\n\u001b[0;32m      3\u001b[0m     \u001b[38;5;66;03m# Read first frame\u001b[39;00m\n\u001b[0;32m      4\u001b[0m     ret, frame \u001b[38;5;241m=\u001b[39m capture\u001b[38;5;241m.\u001b[39mread()\n\u001b[1;32m----> 5\u001b[0m     gray \u001b[38;5;241m=\u001b[39m cv2\u001b[38;5;241m.\u001b[39mcvtColor(frame, cv2\u001b[38;5;241m.\u001b[39mCOLOR_BGR2GRAY)\n\u001b[0;32m      7\u001b[0m     \u001b[38;5;66;03m# Pass frame to body_classifier\u001b[39;00m\n\u001b[0;32m      8\u001b[0m     bodies \u001b[38;5;241m=\u001b[39m body_classifier\u001b[38;5;241m.\u001b[39mdetectMultiScale(gray, \u001b[38;5;241m1.2\u001b[39m, \u001b[38;5;241m3\u001b[39m)\n",
      "\u001b[1;31merror\u001b[0m: OpenCV(4.11.0) D:\\a\\opencv-python\\opencv-python\\opencv\\modules\\imgproc\\src\\color.cpp:199: error: (-215:Assertion failed) !_src.empty() in function 'cv::cvtColor'\n"
     ]
    }
   ],
   "source": [
    "# Looping through videos once it is loaded successfully:\n",
    "while capture.isOpened():\n",
    "    # Read first frame\n",
    "    ret, frame = capture.read()\n",
    "    gray = cv2.cvtColor(frame, cv2.COLOR_BGR2GRAY)\n",
    "\n",
    "    # Pass frame to body_classifier\n",
    "    bodies = body_classifier.detectMultiScale(gray, 1.2, 3)\n",
    "\n",
    "\n",
    "    # Extract bounding boxes for any body identified\n",
    "    for (x, y, w, h) in bodies:\n",
    "        cv2.rectangle(frame, (x, y), (x+w, y+h), (0, 255, 255), 2)\n",
    "        cv2.imshow('Pedestrains', frame)\n",
    "\n",
    "    if cv2.waitKey(1) == 13: # 13 is the Enter key\n",
    "        break\n",
    "\n",
    "capture.release()\n",
    "cv2.destroyAllWindows()"
   ]
  },
  {
   "cell_type": "code",
   "execution_count": null,
   "id": "59ef8dda-c4f0-4571-830c-46f2df917293",
   "metadata": {},
   "outputs": [],
   "source": []
  }
 ],
 "metadata": {
  "kernelspec": {
   "display_name": "Python [conda env:base] *",
   "language": "python",
   "name": "conda-base-py"
  },
  "language_info": {
   "codemirror_mode": {
    "name": "ipython",
    "version": 3
   },
   "file_extension": ".py",
   "mimetype": "text/x-python",
   "name": "python",
   "nbconvert_exporter": "python",
   "pygments_lexer": "ipython3",
   "version": "3.12.7"
  }
 },
 "nbformat": 4,
 "nbformat_minor": 5
}
