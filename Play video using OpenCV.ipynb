{
 "cells": [
  {
   "cell_type": "code",
   "execution_count": 3,
   "id": "68b379de-7d67-4fd7-a3fc-54bc79e78a8b",
   "metadata": {},
   "outputs": [],
   "source": [
    "import cv2\n",
    "import numpy as np"
   ]
  },
  {
   "cell_type": "markdown",
   "id": "e91688e7-c53f-4c0c-9813-ca3449fdcd46",
   "metadata": {},
   "source": [
    "# Load Video"
   ]
  },
  {
   "cell_type": "code",
   "execution_count": 6,
   "id": "76413491-03d9-4b8c-87ad-7404298005cd",
   "metadata": {},
   "outputs": [
    {
     "data": {
      "text/plain": [
       "'video/bike_stunt.mp4'"
      ]
     },
     "execution_count": 6,
     "metadata": {},
     "output_type": "execute_result"
    }
   ],
   "source": [
    "video_path = r'video/bike_stunt.mp4'\n",
    "video_path"
   ]
  },
  {
   "cell_type": "markdown",
   "id": "6909c9fa-a1ed-4940-a7a3-5d1b7e833631",
   "metadata": {},
   "source": [
    "# Capture Video"
   ]
  },
  {
   "cell_type": "code",
   "execution_count": 9,
   "id": "3a1f11ee-c422-461f-ad06-76571b1a9046",
   "metadata": {},
   "outputs": [],
   "source": [
    "capture = cv2.VideoCapture(video_path)\n",
    "\n",
    "while capture.isOpened():\n",
    "    ret, frame = capture.read()\n",
    "    if ret:\n",
    "        img = cv2.resize(frame, (600, 400))\n",
    "        cv2.imshow(\"Video Player\", img)\n",
    "        if cv2.waitKey(25) & 0xfd == ord('q'):\n",
    "            break\n",
    "    else:\n",
    "        break\n",
    "capture.release()\n",
    "cv2.destroyAllWindows()\n",
    "    "
   ]
  },
  {
   "cell_type": "markdown",
   "id": "202832bf-4563-4e51-9560-99dc2c796061",
   "metadata": {},
   "source": [
    "# Access Camera"
   ]
  },
  {
   "cell_type": "code",
   "execution_count": 11,
   "id": "a19421de-e577-466d-86c9-8e54bd355505",
   "metadata": {},
   "outputs": [],
   "source": [
    "capture = cv2.VideoCapture(0)\n",
    "\n",
    "while capture.isOpened():\n",
    "    ret, frame = capture.read()\n",
    "    if ret:\n",
    "        img = cv2.resize(frame, (600, 400))\n",
    "        cv2.imshow(\"Video Player\", img)\n",
    "        if cv2.waitKey(25) & 0xfd == ord('q'):\n",
    "            break\n",
    "    else:\n",
    "        break\n",
    "capture.release()\n",
    "cv2.destroyAllWindows()"
   ]
  },
  {
   "cell_type": "markdown",
   "id": "5b805daf-72fc-487a-bfb9-24e903842b61",
   "metadata": {},
   "source": [
    "# Display 4 videos on one windows"
   ]
  },
  {
   "cell_type": "code",
   "execution_count": 13,
   "id": "17b18dc0-8993-4ed6-b5b7-0294635f974c",
   "metadata": {},
   "outputs": [],
   "source": [
    "capture1 = cv2.VideoCapture(video_path)\n",
    "capture2 = cv2.VideoCapture(2)\n",
    "\n",
    "while capture.isOpened():\n",
    "    ret, frame = capture.read()\n",
    "    if ret:\n",
    "        frame = cv2.resize(frame, (600, 400))\n",
    "        frame_2 = np.hstack((frame, frame))\n",
    "        frame_4 = np.vstack((frame_2, frame_2))\n",
    "        cv2.imshow(\"Video Player\", frame_4)\n",
    "        if cv2.waitKey(25) & 0xfd == ord('q'):\n",
    "            break\n",
    "    else:\n",
    "        break\n",
    "capture.release()\n",
    "cv2.destroyAllWindows()"
   ]
  },
  {
   "cell_type": "markdown",
   "id": "40840b3e-3e07-484f-a91f-c611395e06cf",
   "metadata": {},
   "source": [
    "# Display different videos on one windows"
   ]
  },
  {
   "cell_type": "code",
   "execution_count": 18,
   "id": "0385cc14-d491-471a-b16f-91127e0ae36a",
   "metadata": {},
   "outputs": [],
   "source": [
    "from IPython.display import Image"
   ]
  },
  {
   "cell_type": "code",
   "execution_count": 20,
   "id": "12317be2-8cc6-47e8-952c-201f44d430ef",
   "metadata": {},
   "outputs": [],
   "source": [
    "img_path = r'image/dog1.jpg'\n",
    "img_name = 'dog1.jpg'"
   ]
  },
  {
   "cell_type": "code",
   "execution_count": 22,
   "id": "412589a0-d4eb-46fd-9b58-10b846f321ff",
   "metadata": {},
   "outputs": [],
   "source": [
    "capture1 = cv2.VideoCapture(video_path)\n",
    "capture2 = cv2.VideoCapture(0)\n",
    "\n",
    "while capture1.isOpened():\n",
    "    ret1, frame = capture1.read()\n",
    "    ret2, c_frame = capture2.read()\n",
    "    if ret1 or ret2:\n",
    "        frame1 = cv2.resize(frame, (600, 400))\n",
    "        # frame2 = cv2.resize(frame1, (600, 400))\n",
    "        camera_frame = cv2.resize(c_frame, (600, 400))\n",
    "        \n",
    "        image = cv2.imread(img_path)\n",
    "        image = cv2.resize(image, (600, 400))\n",
    "        \n",
    "        frame_2 = np.hstack((frame1, camera_frame))\n",
    "        frame_02 = np.hstack((camera_frame, image))\n",
    "        frame_4 = np.vstack((frame_2, frame_02))\n",
    "        \n",
    "        cv2.imshow(\"Video Player\", frame_4)\n",
    "        \n",
    "        if cv2.waitKey(25) & 0xfd == ord('q'):\n",
    "            break\n",
    "    else:\n",
    "        break\n",
    "capture1.release()\n",
    "capture2.release()\n",
    "cv2.destroyAllWindows()"
   ]
  },
  {
   "cell_type": "code",
   "execution_count": null,
   "id": "a9ee5042-02f2-413a-87fa-f6968ce4c5f9",
   "metadata": {},
   "outputs": [],
   "source": []
  }
 ],
 "metadata": {
  "kernelspec": {
   "display_name": "Python [conda env:base] *",
   "language": "python",
   "name": "conda-base-py"
  },
  "language_info": {
   "codemirror_mode": {
    "name": "ipython",
    "version": 3
   },
   "file_extension": ".py",
   "mimetype": "text/x-python",
   "name": "python",
   "nbconvert_exporter": "python",
   "pygments_lexer": "ipython3",
   "version": "3.12.7"
  }
 },
 "nbformat": 4,
 "nbformat_minor": 5
}
